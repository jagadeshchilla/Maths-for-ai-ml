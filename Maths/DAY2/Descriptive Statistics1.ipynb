{
 "cells": [
  {
   "cell_type": "markdown",
   "id": "2c2b746f",
   "metadata": {},
   "source": [
    "## Descriptive Statistics\n",
    "### Measure Of Central Tendency\n",
    "\n",
    "Measure of central tendency decribes the \"centre\" or Typical value of dataset\n",
    "\n",
    "The three main measures are:\n",
    "1. Mean - Average of all values\n",
    "2. Median - Middle value when data is sorted\n",
    "3. Mode - Most frequently occuring Value\n",
    "These measures help summarize data with a single representative Value."
   ]
  },
  {
   "cell_type": "markdown",
   "id": "ea85eced",
   "metadata": {},
   "source": [
    "#### Example Dataset: Iris Dataset\n",
    "we'll use Sepal Length of the Iris Dataset"
   ]
  },
  {
   "cell_type": "code",
   "execution_count": 1,
   "id": "35e1104c",
   "metadata": {},
   "outputs": [
    {
     "data": {
      "text/plain": [
       "0    5.1\n",
       "1    4.9\n",
       "2    4.7\n",
       "3    4.6\n",
       "4    5.0\n",
       "Name: sepal length (cm), dtype: float64"
      ]
     },
     "execution_count": 1,
     "metadata": {},
     "output_type": "execute_result"
    }
   ],
   "source": [
    "from sklearn.datasets import load_iris\n",
    "import pandas as pd\n",
    "from scipy import stats\n",
    "\n",
    "# Load the Dataset\n",
    "iris = load_iris()\n",
    "df=pd.DataFrame(iris.data,columns=iris.feature_names)\n",
    "\n",
    "## Take Sepal Length column\n",
    "data=df['sepal length (cm)']\n",
    "data.head()"
   ]
  },
  {
   "cell_type": "markdown",
   "id": "8356e513",
   "metadata": {},
   "source": [
    "#### 1. Mean\n",
    "1. Mean\n",
    "\n",
    "Formula:\n",
    "\n",
    "$$\n",
    "\\text{Mean} = \\frac{\\text{Sum of all values}}{\\text{Number of values}}\n",
    "$$"
   ]
  },
  {
   "cell_type": "code",
   "execution_count": 2,
   "id": "4fe9c00f",
   "metadata": {},
   "outputs": [
    {
     "name": "stdout",
     "output_type": "stream",
     "text": [
      "Mean Sepal Length: 5.843333333333334 cm\n"
     ]
    }
   ],
   "source": [
    "mean_value=data.mean()\n",
    "print(f\"Mean Sepal Length: {mean_value} cm\")"
   ]
  },
  {
   "cell_type": "markdown",
   "id": "5bd71b6d",
   "metadata": {},
   "source": [
    "Explanation: The average sepal length of the Iris dataset is 5.84 cm."
   ]
  },
  {
   "cell_type": "markdown",
   "id": "43e09ec0",
   "metadata": {},
   "source": [
    "#### 2. Median\n",
    "\n",
    "Definition: Middle value of sorted data. Less sensitive to outliers."
   ]
  },
  {
   "cell_type": "code",
   "execution_count": 3,
   "id": "b9588dc9",
   "metadata": {},
   "outputs": [
    {
     "name": "stdout",
     "output_type": "stream",
     "text": [
      "Median Sepal Length: 5.8 cm\n"
     ]
    }
   ],
   "source": [
    "median_value=data.median()\n",
    "print(f\"Median Sepal Length: {median_value} cm\")"
   ]
  },
  {
   "cell_type": "markdown",
   "id": "d1b12515",
   "metadata": {},
   "source": [
    "Explanation: Half of the flowers have sepal length ≤ 5.8 cm, half ≥ 5.8 cm."
   ]
  },
  {
   "cell_type": "markdown",
   "id": "f1461a41",
   "metadata": {},
   "source": [
    "#### 3. Mode\n",
    "\n",
    "Definition: Value that occurs most frequently. Useful for categorical or discrete"
   ]
  },
  {
   "cell_type": "code",
   "execution_count": 4,
   "id": "83ed5618",
   "metadata": {},
   "outputs": [
    {
     "name": "stdout",
     "output_type": "stream",
     "text": [
      "Mode Sepal Length: 5.0 cm\n"
     ]
    }
   ],
   "source": [
    "mode_value=data.mode()[0]\n",
    "print(f\"Mode Sepal Length: {mode_value} cm\")"
   ]
  },
  {
   "cell_type": "markdown",
   "id": "fa28eeb8",
   "metadata": {},
   "source": [
    "Explanation: 5.0 cm is the most common sepal length in the dataset."
   ]
  },
  {
   "cell_type": "markdown",
   "id": "4bfe15ef",
   "metadata": {},
   "source": [
    "#### When to Use Each Measure:\n",
    "| Measure    | When to Use                                                         |\n",
    "| ---------- | ------------------------------------------------------------------- |\n",
    "| **Mean**   | For symmetric distributions, sensitive to outliers                  |\n",
    "| **Median** | For skewed data or when outliers exist                              |\n",
    "| **Mode**   | For categorical or discrete data, or to see the most frequent value |\n"
   ]
  },
  {
   "cell_type": "markdown",
   "id": "55a1891d",
   "metadata": {},
   "source": [
    "## Measure of Dispersion\n",
    "Measure of dispersion describes how spread out or scattered the data is.While central tendency gives the \"centre\" dispersion tells us how much variability exists around it\n",
    "\n",
    "**Key Measures:**\n",
    "- Range\n",
    "- Variance\n",
    "- Standard Deviation(SD)\n",
    "- Mean Absolute Deviation(MAD)\n",
    "- Coeffecient of Variation(CV)\n",
    "\n",
    "### 1. Range\n",
    "Differnce between the maximum and minimum values\n",
    "$$\n",
    "\\text{Range} = \\text{Max value} - \\text{Min value}\n",
    "$$\n",
    "\n",
    "Example"
   ]
  },
  {
   "cell_type": "code",
   "execution_count": 5,
   "id": "25c8dfa4",
   "metadata": {},
   "outputs": [
    {
     "name": "stdout",
     "output_type": "stream",
     "text": [
      "Data: [30 26 43 36 41 24 39 26 38 27]\n",
      "Range: 19\n"
     ]
    }
   ],
   "source": [
    "import numpy as np\n",
    "data=np.random.randint(10,50,size=10)\n",
    "print(\"Data:\",data)\n",
    "\n",
    "## calculate range\n",
    "range_value=data.max()-data.min()\n",
    "print(f\"Range: {range_value}\")\n"
   ]
  },
  {
   "cell_type": "markdown",
   "id": "ca17dd3c",
   "metadata": {},
   "source": [
    "Explanation: The values are spread over 31 units."
   ]
  },
  {
   "cell_type": "markdown",
   "id": "c0e6a249",
   "metadata": {},
   "source": [
    "### 2. Variance\n",
    "\n",
    "Definition: Average of squared differences from the mean. Measures how data points deviate from the mean.\n",
    "$$\n",
    "\\text{Variance}(\\sigma^2) = \\frac{\\sum(x_i - \\bar{x})^2}{n}\n",
    "$$\n",
    "\n",
    "**Example:**\n"
   ]
  },
  {
   "cell_type": "code",
   "execution_count": 6,
   "id": "7839fbcb",
   "metadata": {},
   "outputs": [
    {
     "name": "stdout",
     "output_type": "stream",
     "text": [
      "Variance: 0.189979418344519\n"
     ]
    }
   ],
   "source": [
    "import pandas as pd\n",
    "from sklearn.datasets import load_iris\n",
    "\n",
    "# Load the Iris dataset\n",
    "iris = load_iris()\n",
    "df=pd.DataFrame(iris.data,columns=iris.feature_names)\n",
    "data=df['sepal width (cm)']\n",
    "\n",
    "## Calculate variance\n",
    "variance=data.var()\n",
    "print(f\"Variance: {variance}\")\n",
    "\n"
   ]
  },
  {
   "cell_type": "markdown",
   "id": "401d36e4",
   "metadata": {},
   "source": [
    "Explanation: The squared deviations from the mean give an idea of spread in sepal width."
   ]
  },
  {
   "cell_type": "markdown",
   "id": "31213b24",
   "metadata": {},
   "source": [
    "### 3. Standard Deviation (SD)\n",
    "\n",
    "Definition: Square root of variance. Expressed in the same unit as the data.\n",
    "$$\n",
    "\\text{SD} = \\sqrt{\\text{Variance}}\n",
    "$$"
   ]
  },
  {
   "cell_type": "code",
   "execution_count": 7,
   "id": "094177a4",
   "metadata": {},
   "outputs": [
    {
     "name": "stdout",
     "output_type": "stream",
     "text": [
      "Standard Deviation: 0.4358662849366982\n"
     ]
    }
   ],
   "source": [
    "std_value=data.std()\n",
    "print(f\"Standard Deviation: {std_value}\")"
   ]
  },
  {
   "cell_type": "markdown",
   "id": "80fca721",
   "metadata": {},
   "source": [
    "Explanation: Most sepal width values lie roughly ±0.44 cm from the mean."
   ]
  },
  {
   "cell_type": "markdown",
   "id": "ae676f67",
   "metadata": {},
   "source": [
    "### 4. Mean Absolute Deviation (MAD)\n",
    "\n",
    "Definition: Average of absolute differences from the mean. Less sensitive to outliers than variance."
   ]
  },
  {
   "cell_type": "code",
   "execution_count": 8,
   "id": "f7415f56",
   "metadata": {},
   "outputs": [
    {
     "name": "stdout",
     "output_type": "stream",
     "text": [
      "Mean Absolute Deviation: 0.33678222222222226\n"
     ]
    }
   ],
   "source": [
    "# Calculate Mean Absolute Deviation manually\n",
    "mad_value = (data - data.mean()).abs().mean()\n",
    "print(f\"Mean Absolute Deviation: {mad_value}\")"
   ]
  },
  {
   "cell_type": "markdown",
   "id": "69d8f6dd",
   "metadata": {},
   "source": [
    "Explanation: On average, sepal widths deviate 0.35 cm from the mean."
   ]
  },
  {
   "cell_type": "markdown",
   "id": "f601afd2",
   "metadata": {},
   "source": [
    "### 5. Coefficient of Variation (CV)\n",
    "\n",
    "Definition: Standard deviation relative to the mean, expressed as a percentage.\n",
    "\n",
    "$$\n",
    "CV = \\frac{SD}{Mean} \\times 100\n",
    "$$"
   ]
  },
  {
   "cell_type": "code",
   "execution_count": 9,
   "id": "703dfcca",
   "metadata": {},
   "outputs": [
    {
     "name": "stdout",
     "output_type": "stream",
     "text": [
      "Coefficient of Variation: 7.459206245351367%\n"
     ]
    }
   ],
   "source": [
    "cv_value=std_value/mean_value*100\n",
    "print(f\"Coefficient of Variation: {cv_value}%\")"
   ]
  },
  {
   "cell_type": "markdown",
   "id": "afa55010",
   "metadata": {},
   "source": [
    "Explanation: A CV of 7.39% indicates low relative variability in sepal width."
   ]
  },
  {
   "cell_type": "markdown",
   "id": "90e272b3",
   "metadata": {},
   "source": [
    "Example with Generated Continuous Data (Time Series)"
   ]
  },
  {
   "cell_type": "code",
   "execution_count": 10,
   "id": "1c305819",
   "metadata": {},
   "outputs": [
    {
     "name": "stdout",
     "output_type": "stream",
     "text": [
      "Temperature Data: [26.74638702 27.91885907 31.75291854 36.64617633 35.36358009 32.21414445\n",
      " 38.96793217 26.86241448 29.47910039 33.56024987 29.29303614 35.59845089\n",
      " 32.80593211 28.0424709  15.38168673 33.15732191 30.7322901  25.52296739\n",
      " 22.98081886 33.32593222]\n",
      "Range: 23.586245443289048\n",
      "Variance: 28.69217312990347\n",
      "Standard Deviation: 5.356507549691634\n"
     ]
    }
   ],
   "source": [
    "# Generate synthetic temperature data\n",
    "temps = np.random.normal(loc=30, scale=5, size=20)\n",
    "print(\"Temperature Data:\", temps)\n",
    "\n",
    "print(\"Range:\", temps.max() - temps.min())\n",
    "print(\"Variance:\", np.var(temps, ddof=1))\n",
    "print(\"Standard Deviation:\", np.std(temps, ddof=1))\n"
   ]
  },
  {
   "cell_type": "markdown",
   "id": "cd59b8db",
   "metadata": {},
   "source": [
    "Explanation: You can compare variability in synthetic data vs real datasets."
   ]
  },
  {
   "cell_type": "markdown",
   "id": "179f0271",
   "metadata": {},
   "source": [
    "### Percentiles, Quartiles, IQR, and Outliers\n",
    "#### 1. Percentiles\n",
    "\n",
    "Definition: A percentile indicates the value below which a given percentage of observations fall.\n",
    "\n",
    "Example: 90th percentile = value below which 90% of data lies.\n",
    "\n",
    "Example with Generated Data:"
   ]
  },
  {
   "cell_type": "code",
   "execution_count": 11,
   "id": "fad218c5",
   "metadata": {},
   "outputs": [
    {
     "name": "stdout",
     "output_type": "stream",
     "text": [
      "Data: [85 96 92 33 99 15 18 83 36 79 84 63 38 43 60 94 69 96 73 54]\n"
     ]
    }
   ],
   "source": [
    "import numpy as np\n",
    "\n",
    "## Generate random data\n",
    "data=np.random.randint(10,100,size=20)\n",
    "print(\"Data:\",data)"
   ]
  },
  {
   "cell_type": "code",
   "execution_count": 12,
   "id": "2758b72f",
   "metadata": {},
   "outputs": [
    {
     "name": "stdout",
     "output_type": "stream",
     "text": [
      "25th Percentile: 41.75\n",
      "50th Percentile: 71.0\n",
      "75th Percentile: 86.75\n"
     ]
    }
   ],
   "source": [
    "# calculate percentiles\n",
    "percentile_25=np.percentile(data,25)\n",
    "percentile_50=np.percentile(data,50)\n",
    "percentile_75=np.percentile(data,75)\n",
    "print(f\"25th Percentile: {percentile_25}\")\n",
    "print(f\"50th Percentile: {percentile_50}\")\n",
    "print(f\"75th Percentile: {percentile_75}\")\n"
   ]
  },
  {
   "cell_type": "markdown",
   "id": "71555f1d",
   "metadata": {},
   "source": [
    "Explanation:\n",
    "\n",
    "- 25% of data ≤ 33.75 (Q1)\n",
    "- 50% ≤ 66.5 (Median)\n",
    "- 75% ≤ 89.25 (Q3)"
   ]
  },
  {
   "cell_type": "code",
   "execution_count": 13,
   "id": "fa46df98",
   "metadata": {},
   "outputs": [
    {
     "data": {
      "image/png": "[encoded data removed]",
      "text/plain": [
       "<Figure size 800x400 with 1 Axes>"
      ]
     },
     "metadata": {},
     "output_type": "display_data"
    }
   ],
   "source": [
    "import matplotlib.pyplot as plt\n",
    "\n",
    "plt.figure(figsize=(8,4))\n",
    "plt.hist(data, bins=10, color='skyblue', edgecolor='black')\n",
    "plt.axvline(percentile_25, color='red', linestyle='dashed', label='25th percentile')\n",
    "plt.axvline(percentile_50, color='green', linestyle='dashed', label='Median (50th)')\n",
    "plt.axvline(percentile_75, color='orange', linestyle='dashed', label='75th percentile')\n",
    "plt.title(\"Percentiles Visualization\")\n",
    "plt.xlabel(\"Values\")\n",
    "plt.ylabel(\"Frequency\")\n",
    "plt.legend()\n",
    "plt.show()\n"
   ]
  },
  {
   "cell_type": "markdown",
   "id": "eb44f404",
   "metadata": {},
   "source": [
    "### 2. Quartiles\n",
    "Definition:\n",
    "\n",
    "Quartiles divide the data into four equal parts.\n",
    "\n",
    "- Q1 (25%) – lower quartile\n",
    "- Q2 (50%) – median\n",
    "- Q3 (75%) – upper quartile\n",
    "\n",
    "Example with Real Dataset (Iris Sepal Length)"
   ]
  },
  {
   "cell_type": "code",
   "execution_count": 14,
   "id": "1b0ec2ce",
   "metadata": {},
   "outputs": [
    {
     "name": "stdout",
     "output_type": "stream",
     "text": [
      "Q1: 5.1 Median (Q2): 5.8 Q3: 6.4\n"
     ]
    }
   ],
   "source": [
    "from sklearn.datasets import load_iris\n",
    "import pandas as pd\n",
    "\n",
    "iris = load_iris()\n",
    "df = pd.DataFrame(iris.data, columns=iris.feature_names)\n",
    "data = df['sepal length (cm)']\n",
    "\n",
    "Q1 = data.quantile(0.25)\n",
    "Q2 = data.quantile(0.50)  # Median\n",
    "Q3 = data.quantile(0.75)\n",
    "\n",
    "print(\"Q1:\", Q1, \"Median (Q2):\", Q2, \"Q3:\", Q3)\n"
   ]
  },
  {
   "cell_type": "code",
   "execution_count": 15,
   "id": "405fdbeb",
   "metadata": {},
   "outputs": [
    {
     "data": {
      "image/png": "[encoded data removed]",
      "text/plain": [
       "<Figure size 600x400 with 1 Axes>"
      ]
     },
     "metadata": {},
     "output_type": "display_data"
    }
   ],
   "source": [
    "plt.figure(figsize=(6,4))\n",
    "plt.boxplot(data, vert=False)\n",
    "plt.title(\"Boxplot of Sepal Length\")\n",
    "plt.xlabel(\"Sepal Length (cm)\")\n",
    "plt.show()\n"
   ]
  },
  {
   "cell_type": "markdown",
   "id": "6fd061c3",
   "metadata": {},
   "source": [
    "Explanation:\n",
    "\n",
    "- Box → Q1 to Q3\n",
    "\n",
    "- Line inside box → Median (Q2)\n",
    "\n",
    "- Whiskers → Spread of non-outlier data"
   ]
  },
  {
   "cell_type": "markdown",
   "id": "f32902f0",
   "metadata": {},
   "source": [
    "### 3. Interquartile Range (IQR)\n",
    "Definition:\n",
    "\n",
    "The IQR measures the spread of the middle 50% of the data.\n",
    "\n",
    "**Formula:**\n",
    "$$\n",
    "IQR = Q3 - Q1\n",
    "$$\n",
    "\n",
    "Where:\n",
    "- Q1 = First quartile (25th percentile)\n",
    "- Q3 = Third quartile (75th percentile)"
   ]
  },
  {
   "cell_type": "code",
   "execution_count": 16,
   "id": "2d02e140",
   "metadata": {},
   "outputs": [
    {
     "name": "stdout",
     "output_type": "stream",
     "text": [
      "IQR: 1.3000000000000007\n"
     ]
    }
   ],
   "source": [
    "IQR = Q3 - Q1\n",
    "print(\"IQR:\", IQR)\n"
   ]
  },
  {
   "cell_type": "markdown",
   "id": "863fa7b2",
   "metadata": {},
   "source": [
    "Explanation: Middle 50% of sepal lengths spread across 1.3 cm."
   ]
  },
  {
   "cell_type": "markdown",
   "id": "0a41a6c3",
   "metadata": {},
   "source": [
    "#### 4. Outliers (Boxplot & Z-score Method)\n",
    "**Boxplot Method (1.5 * IQR Rule)**\n",
    "\n",
    "- Lower bound = Q1 - 1.5*IQR\n",
    "- Upper bound = Q3 + 1.5*IQR\n",
    "- Values outside this range → Outliers\n"
   ]
  },
  {
   "cell_type": "code",
   "execution_count": 18,
   "id": "26028d40",
   "metadata": {},
   "outputs": [
    {
     "name": "stdout",
     "output_type": "stream",
     "text": [
      "Outliers: Series([], Name: sepal length (cm), dtype: float64)\n"
     ]
    }
   ],
   "source": [
    "lower_bound=Q1-1.5*IQR\n",
    "upper_bound=Q3+1.5*IQR\n",
    "outliers=data[(data<lower_bound)|(data>upper_bound)]\n",
    "print(\"Outliers:\",outliers)"
   ]
  },
  {
   "cell_type": "markdown",
   "id": "0e48dedf",
   "metadata": {},
   "source": [
    "**Z-score Method**"
   ]
  },
  {
   "cell_type": "code",
   "execution_count": 21,
   "id": "1b67f8fe",
   "metadata": {},
   "outputs": [
    {
     "name": "stdout",
     "output_type": "stream",
     "text": [
      "Outliers: Series([], Name: sepal length (cm), dtype: float64)\n"
     ]
    }
   ],
   "source": [
    "from scipy.stats import zscore\n",
    "\n",
    "z_scores=zscore(data)\n",
    "outliers=data[(z_scores>3)|(z_scores<-3)]\n",
    "print(\"Outliers:\",outliers)"
   ]
  },
  {
   "cell_type": "markdown",
   "id": "e6eef3e0",
   "metadata": {},
   "source": [
    "Explanation:\n",
    "\n",
    "- Z-score > 3 (or < -3) → data point is an extreme outlier.\n",
    "\n",
    "- Useful for datasets with different scales."
   ]
  },
  {
   "cell_type": "markdown",
   "id": "6afbd79f",
   "metadata": {},
   "source": [
    "### Skewness & Kurtosis\n",
    "#### 1. Skewness\n",
    "\n",
    "Definition:\n",
    "Skewness measures the asymmetry of a distribution.\n",
    "\n",
    "- Positive skew (right-skewed): Tail on the right → mean > median\n",
    "\n",
    "- Negative skew (left-skewed): Tail on the left → mean < median\n",
    "\n",
    "- Skewness = 0: Symmetric distribution (like normal)\n",
    "\n",
    "**Formula:**\n",
    "$$\n",
    "\\text{Skewness} = \\frac{\\sum_{i=1}^{n} (x_i - \\bar{x})^3}{(n-1) \\cdot SD^3}\n",
    "$$\n",
    "\n",
    "Where:\n",
    "- $x_i$ = individual data points\n",
    "- $\\bar{x}$ = sample mean\n",
    "- $n$ = sample size\n",
    "- $SD$ = sample standard deviation\n"
   ]
  },
  {
   "cell_type": "code",
   "execution_count": 25,
   "id": "fecdacef",
   "metadata": {},
   "outputs": [],
   "source": [
    "import numpy as np\n",
    "import seaborn as sns\n",
    "import matplotlib.pyplot as plt\n",
    "from scipy.stats import skew\n",
    "\n",
    "## Load dataset\n",
    "tips=sns.load_dataset('tips')\n",
    "data=tips['total_bill']"
   ]
  },
  {
   "cell_type": "code",
   "execution_count": 26,
   "id": "58c819be",
   "metadata": {},
   "outputs": [
    {
     "data": {
      "text/plain": [
       "0    16.99\n",
       "1    10.34\n",
       "2    21.01\n",
       "3    23.68\n",
       "4    24.59\n",
       "Name: total_bill, dtype: float64"
      ]
     },
     "execution_count": 26,
     "metadata": {},
     "output_type": "execute_result"
    }
   ],
   "source": [
    "data.head()"
   ]
  },
  {
   "cell_type": "code",
   "execution_count": 27,
   "id": "18f0d6fe",
   "metadata": {},
   "outputs": [
    {
     "name": "stdout",
     "output_type": "stream",
     "text": [
      "Skewness of total_bill: 1.1262346334818638\n"
     ]
    }
   ],
   "source": [
    "# Calculate skewness\n",
    "skewness_value = skew(data)\n",
    "print(\"Skewness of total_bill:\", skewness_value)"
   ]
  },
  {
   "cell_type": "code",
   "execution_count": 28,
   "id": "2b8eaa77",
   "metadata": {},
   "outputs": [
    {
     "data": {
      "image/png": "[encoded data removed]",
      "text/plain": [
       "<Figure size 800x400 with 1 Axes>"
      ]
     },
     "metadata": {},
     "output_type": "display_data"
    }
   ],
   "source": [
    "# Visualization\n",
    "plt.figure(figsize=(8,4))\n",
    "sns.histplot(data, bins=20, kde=True, color='skyblue')\n",
    "plt.title(f\"Distribution of Total Bill (Skewness = {skewness_value:.2f})\")\n",
    "plt.xlabel(\"Total Bill\")\n",
    "plt.ylabel(\"Frequency\")\n",
    "plt.show()"
   ]
  },
  {
   "cell_type": "markdown",
   "id": "14c7f27f",
   "metadata": {},
   "source": [
    "Explanation:\n",
    "\n",
    "- Skewness > 0 → Right-skewed: Most bills are small, few very large bills.\n",
    "\n",
    "- Visualization: Histogram shows tail on the right."
   ]
  },
  {
   "cell_type": "markdown",
   "id": "83509aaa",
   "metadata": {},
   "source": [
    "### 2.Kurtosis\n",
    "\n",
    "Definition:\n",
    "Kurtosis measures the “tailedness” or peak” of a distribution.\n",
    "\n",
    "- High kurtosis (>3, leptokurtic): Sharp peak, heavy tails → more outliers\n",
    "\n",
    "- Low kurtosis (<3, platykurtic): Flat peak, light tails → fewer extreme values\n",
    "\n",
    "- Normal distribution: Kurtosis = 3 (mesokurtic)\n",
    "\n",
    "Formula (simplified):\n",
    "**Kurtosis Formula:**\n",
    "$$\n",
    "\\text{Kurtosis} = \\frac{\\sum_{i=1}^{n} (x_i - \\bar{x})^4}{(n-1) \\cdot SD^4}\n",
    "$$\n",
    "\n",
    "Where:\n",
    "- $x_i$ = individual data points\n",
    "- $\\bar{x}$ = sample mean\n",
    "- $n$ = sample size\n",
    "- $SD$ = sample standard deviation\n",
    "\n"
   ]
  },
  {
   "cell_type": "code",
   "execution_count": 32,
   "id": "af3266d5",
   "metadata": {},
   "outputs": [],
   "source": [
    "from sklearn.datasets import load_diabetes\n",
    "import pandas as pd\n",
    "from scipy.stats import kurtosis\n",
    "\n",
    "## Load dataset\n",
    "diabetes=load_diabetes()\n",
    "df=pd.DataFrame(diabetes.data,columns=diabetes.feature_names)\n",
    "data=df['bmi']\n"
   ]
  },
  {
   "cell_type": "code",
   "execution_count": 33,
   "id": "a6201dba",
   "metadata": {},
   "outputs": [
    {
     "data": {
      "text/plain": [
       "0    0.061696\n",
       "1   -0.051474\n",
       "2    0.044451\n",
       "3   -0.011595\n",
       "4   -0.036385\n",
       "Name: bmi, dtype: float64"
      ]
     },
     "execution_count": 33,
     "metadata": {},
     "output_type": "execute_result"
    }
   ],
   "source": [
    "data.head()"
   ]
  },
  {
   "cell_type": "code",
   "execution_count": 34,
   "id": "fd3536d1",
   "metadata": {},
   "outputs": [
    {
     "name": "stdout",
     "output_type": "stream",
     "text": [
      "Kurtosis of BMI: 0.08047812866813064\n"
     ]
    }
   ],
   "source": [
    "# Calculate kurtosis\n",
    "kurtosis_value = kurtosis(data)\n",
    "print(\"Kurtosis of BMI:\", kurtosis_value)"
   ]
  },
  {
   "cell_type": "code",
   "execution_count": 35,
   "id": "680fd140",
   "metadata": {},
   "outputs": [
    {
     "data": {
      "image/png": "[encoded data removed]",
      "text/plain": [
       "<Figure size 800x400 with 1 Axes>"
      ]
     },
     "metadata": {},
     "output_type": "display_data"
    }
   ],
   "source": [
    "# Visualization\n",
    "plt.figure(figsize=(8,4))\n",
    "plt.hist(data, bins=20, color='lightgreen', edgecolor='black')\n",
    "plt.title(f\"Distribution of BMI (Kurtosis = {kurtosis_value:.2f})\")\n",
    "plt.xlabel(\"BMI\")\n",
    "plt.ylabel(\"Frequency\")\n",
    "plt.show()"
   ]
  },
  {
   "cell_type": "markdown",
   "id": "87d9d34e",
   "metadata": {},
   "source": [
    "Explanation:\n",
    "\n",
    "- Positive kurtosis → sharp peak → most BMI values near mean, extreme values exist.\n",
    "\n",
    "- Low kurtosis → flatter distribution → more uniform spread."
   ]
  },
  {
   "cell_type": "code",
   "execution_count": 36,
   "id": "59796b0e",
   "metadata": {},
   "outputs": [
    {
     "data": {
      "image/png": "[encoded data removed]",
      "text/plain": [
       "<Figure size 1000x400 with 2 Axes>"
      ]
     },
     "metadata": {},
     "output_type": "display_data"
    }
   ],
   "source": [
    "### Visualizing Skewness and Kurtosis Together\n",
    "plt.figure(figsize=(10,4))\n",
    "\n",
    "plt.subplot(1,2,1)\n",
    "sns.histplot(tips['total_bill'], bins=20, kde=True, color='skyblue')\n",
    "plt.title(f\"Skewness = {skew(tips['total_bill']):.2f}\")\n",
    "\n",
    "plt.subplot(1,2,2)\n",
    "plt.hist(df['bmi'], bins=20, color='lightgreen', edgecolor='black')\n",
    "plt.title(f\"Kurtosis = {kurtosis(df['bmi']):.2f}\")\n",
    "\n",
    "plt.tight_layout()\n",
    "plt.show()\n"
   ]
  },
  {
   "cell_type": "markdown",
   "id": "45209db2",
   "metadata": {},
   "source": [
    "Explanation:\n",
    "\n",
    "- Left plot → skewed distribution (asymmetric)\n",
    "\n",
    "- Right plot → shows kurtosis (peakedness of distribution)"
   ]
  },
  {
   "cell_type": "code",
   "execution_count": null,
   "id": "1ba2bfaa",
   "metadata": {},
   "outputs": [],
   "source": []
  }
 ],
 "metadata": {
  "kernelspec": {
   "display_name": "Python 3",
   "language": "python",
   "name": "python3"
  },
  "language_info": {
   "codemirror_mode": {
    "name": "ipython",
    "version": 3
   },
   "file_extension": ".py",
   "mimetype": "text/x-python",
   "name": "python",
   "nbconvert_exporter": "python",
   "pygments_lexer": "ipython3",
   "version": "3.12.0"
  }
 },
 "nbformat": 4,
 "nbformat_minor": 5
}
